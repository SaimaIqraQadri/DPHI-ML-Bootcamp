{
 "cells": [
  {
   "cell_type": "markdown",
   "metadata": {},
   "source": [
    "# Assignment#1 - Quiz"
   ]
  },
  {
   "cell_type": "code",
   "execution_count": 1,
   "metadata": {},
   "outputs": [],
   "source": [
    "import pandas as pd\n",
    "import numpy as np\n",
    "import matplotlib as mpl\n",
    "import matplotlib.pyplot as plt\n",
    "%matplotlib inline\n",
    "import seaborn as sns\n",
    "import scipy.stats as st\n",
    "from sklearn import ensemble, tree, linear_model"
   ]
  },
  {
   "cell_type": "code",
   "execution_count": 81,
   "metadata": {},
   "outputs": [],
   "source": [
    "url = 'https://drive.google.com/file/d/1QcKzIJlO6WRUH4IkrKAvDmBVEipXkeQb/view?usp=sharing'\n",
    "\n",
    "path = 'https://drive.google.com/uc?export=download&id='+url.split('/')[-2]\n",
    "\n",
    "Data = pd.read_csv(path)"
   ]
  },
  {
   "cell_type": "code",
   "execution_count": 82,
   "metadata": {},
   "outputs": [
    {
     "data": {
      "text/html": [
       "<div>\n",
       "<style scoped>\n",
       "    .dataframe tbody tr th:only-of-type {\n",
       "        vertical-align: middle;\n",
       "    }\n",
       "\n",
       "    .dataframe tbody tr th {\n",
       "        vertical-align: top;\n",
       "    }\n",
       "\n",
       "    .dataframe thead th {\n",
       "        text-align: right;\n",
       "    }\n",
       "</style>\n",
       "<table border=\"1\" class=\"dataframe\">\n",
       "  <thead>\n",
       "    <tr style=\"text-align: right;\">\n",
       "      <th></th>\n",
       "      <th>VendorID</th>\n",
       "      <th>tpep_pickup_datetime</th>\n",
       "      <th>tpep_dropoff_datetime</th>\n",
       "      <th>passenger_count</th>\n",
       "      <th>PULocationID</th>\n",
       "      <th>DOLocationID</th>\n",
       "      <th>fare_amount</th>\n",
       "    </tr>\n",
       "  </thead>\n",
       "  <tbody>\n",
       "    <tr>\n",
       "      <td>0</td>\n",
       "      <td>1.0</td>\n",
       "      <td>2020-01-01 00:28:15</td>\n",
       "      <td>2020-01-01 00:33:03</td>\n",
       "      <td>1.0</td>\n",
       "      <td>238</td>\n",
       "      <td>239</td>\n",
       "      <td>6.0</td>\n",
       "    </tr>\n",
       "    <tr>\n",
       "      <td>1</td>\n",
       "      <td>1.0</td>\n",
       "      <td>2020-01-01 00:35:39</td>\n",
       "      <td>2020-01-01 00:43:04</td>\n",
       "      <td>1.0</td>\n",
       "      <td>239</td>\n",
       "      <td>238</td>\n",
       "      <td>7.0</td>\n",
       "    </tr>\n",
       "    <tr>\n",
       "      <td>2</td>\n",
       "      <td>1.0</td>\n",
       "      <td>2020-01-01 00:47:41</td>\n",
       "      <td>2020-01-01 00:53:52</td>\n",
       "      <td>1.0</td>\n",
       "      <td>238</td>\n",
       "      <td>238</td>\n",
       "      <td>6.0</td>\n",
       "    </tr>\n",
       "    <tr>\n",
       "      <td>3</td>\n",
       "      <td>1.0</td>\n",
       "      <td>2020-01-01 00:55:23</td>\n",
       "      <td>2020-01-01 01:00:14</td>\n",
       "      <td>1.0</td>\n",
       "      <td>238</td>\n",
       "      <td>151</td>\n",
       "      <td>5.5</td>\n",
       "    </tr>\n",
       "    <tr>\n",
       "      <td>4</td>\n",
       "      <td>2.0</td>\n",
       "      <td>2020-01-01 00:01:58</td>\n",
       "      <td>2020-01-01 00:04:16</td>\n",
       "      <td>1.0</td>\n",
       "      <td>193</td>\n",
       "      <td>193</td>\n",
       "      <td>3.5</td>\n",
       "    </tr>\n",
       "  </tbody>\n",
       "</table>\n",
       "</div>"
      ],
      "text/plain": [
       "   VendorID tpep_pickup_datetime tpep_dropoff_datetime  passenger_count  \\\n",
       "0       1.0  2020-01-01 00:28:15   2020-01-01 00:33:03              1.0   \n",
       "1       1.0  2020-01-01 00:35:39   2020-01-01 00:43:04              1.0   \n",
       "2       1.0  2020-01-01 00:47:41   2020-01-01 00:53:52              1.0   \n",
       "3       1.0  2020-01-01 00:55:23   2020-01-01 01:00:14              1.0   \n",
       "4       2.0  2020-01-01 00:01:58   2020-01-01 00:04:16              1.0   \n",
       "\n",
       "   PULocationID  DOLocationID  fare_amount  \n",
       "0           238           239          6.0  \n",
       "1           239           238          7.0  \n",
       "2           238           238          6.0  \n",
       "3           238           151          5.5  \n",
       "4           193           193          3.5  "
      ]
     },
     "execution_count": 82,
     "metadata": {},
     "output_type": "execute_result"
    }
   ],
   "source": [
    "Data.head()"
   ]
  },
  {
   "cell_type": "code",
   "execution_count": 83,
   "metadata": {},
   "outputs": [
    {
     "name": "stdout",
     "output_type": "stream",
     "text": [
      "<class 'pandas.core.frame.DataFrame'>\n",
      "RangeIndex: 1243241 entries, 0 to 1243240\n",
      "Data columns (total 7 columns):\n",
      "VendorID                 1227632 non-null float64\n",
      "tpep_pickup_datetime     1243241 non-null object\n",
      "tpep_dropoff_datetime    1243241 non-null object\n",
      "passenger_count          1227632 non-null float64\n",
      "PULocationID             1243241 non-null int64\n",
      "DOLocationID             1243241 non-null int64\n",
      "fare_amount              1243241 non-null float64\n",
      "dtypes: float64(3), int64(2), object(2)\n",
      "memory usage: 66.4+ MB\n"
     ]
    }
   ],
   "source": [
    "Data.info()"
   ]
  },
  {
   "cell_type": "code",
   "execution_count": 84,
   "metadata": {},
   "outputs": [
    {
     "data": {
      "text/plain": [
       "VendorID                 15609\n",
       "tpep_pickup_datetime         0\n",
       "tpep_dropoff_datetime        0\n",
       "passenger_count          15609\n",
       "PULocationID                 0\n",
       "DOLocationID                 0\n",
       "fare_amount                  0\n",
       "dtype: int64"
      ]
     },
     "execution_count": 84,
     "metadata": {},
     "output_type": "execute_result"
    }
   ],
   "source": [
    "Data.isnull().sum()"
   ]
  },
  {
   "cell_type": "code",
   "execution_count": 85,
   "metadata": {},
   "outputs": [
    {
     "data": {
      "text/plain": [
       "(1243241, 7)"
      ]
     },
     "execution_count": 85,
     "metadata": {},
     "output_type": "execute_result"
    }
   ],
   "source": [
    "Data.shape"
   ]
  },
  {
   "cell_type": "markdown",
   "metadata": {},
   "source": [
    "### Question#2"
   ]
  },
  {
   "cell_type": "code",
   "execution_count": 86,
   "metadata": {},
   "outputs": [
    {
     "data": {
      "text/html": [
       "<div>\n",
       "<style scoped>\n",
       "    .dataframe tbody tr th:only-of-type {\n",
       "        vertical-align: middle;\n",
       "    }\n",
       "\n",
       "    .dataframe tbody tr th {\n",
       "        vertical-align: top;\n",
       "    }\n",
       "\n",
       "    .dataframe thead th {\n",
       "        text-align: right;\n",
       "    }\n",
       "</style>\n",
       "<table border=\"1\" class=\"dataframe\">\n",
       "  <thead>\n",
       "    <tr style=\"text-align: right;\">\n",
       "      <th></th>\n",
       "      <th>VendorID</th>\n",
       "      <th>passenger_count</th>\n",
       "      <th>PULocationID</th>\n",
       "      <th>DOLocationID</th>\n",
       "      <th>fare_amount</th>\n",
       "    </tr>\n",
       "  </thead>\n",
       "  <tbody>\n",
       "    <tr>\n",
       "      <td>count</td>\n",
       "      <td>1.227632e+06</td>\n",
       "      <td>1.227632e+06</td>\n",
       "      <td>1.243241e+06</td>\n",
       "      <td>1.243241e+06</td>\n",
       "      <td>1.243241e+06</td>\n",
       "    </tr>\n",
       "    <tr>\n",
       "      <td>mean</td>\n",
       "      <td>1.676771e+00</td>\n",
       "      <td>1.568692e+00</td>\n",
       "      <td>1.627453e+02</td>\n",
       "      <td>1.607467e+02</td>\n",
       "      <td>1.302977e+01</td>\n",
       "    </tr>\n",
       "    <tr>\n",
       "      <td>std</td>\n",
       "      <td>4.677094e-01</td>\n",
       "      <td>1.181809e+00</td>\n",
       "      <td>6.610786e+01</td>\n",
       "      <td>7.098176e+01</td>\n",
       "      <td>1.293962e+01</td>\n",
       "    </tr>\n",
       "    <tr>\n",
       "      <td>min</td>\n",
       "      <td>1.000000e+00</td>\n",
       "      <td>0.000000e+00</td>\n",
       "      <td>1.000000e+00</td>\n",
       "      <td>1.000000e+00</td>\n",
       "      <td>-1.238000e+03</td>\n",
       "    </tr>\n",
       "    <tr>\n",
       "      <td>25%</td>\n",
       "      <td>1.000000e+00</td>\n",
       "      <td>1.000000e+00</td>\n",
       "      <td>1.250000e+02</td>\n",
       "      <td>1.070000e+02</td>\n",
       "      <td>6.000000e+00</td>\n",
       "    </tr>\n",
       "    <tr>\n",
       "      <td>50%</td>\n",
       "      <td>2.000000e+00</td>\n",
       "      <td>1.000000e+00</td>\n",
       "      <td>1.610000e+02</td>\n",
       "      <td>1.620000e+02</td>\n",
       "      <td>9.000000e+00</td>\n",
       "    </tr>\n",
       "    <tr>\n",
       "      <td>75%</td>\n",
       "      <td>2.000000e+00</td>\n",
       "      <td>2.000000e+00</td>\n",
       "      <td>2.330000e+02</td>\n",
       "      <td>2.330000e+02</td>\n",
       "      <td>1.400000e+01</td>\n",
       "    </tr>\n",
       "    <tr>\n",
       "      <td>max</td>\n",
       "      <td>2.000000e+00</td>\n",
       "      <td>9.000000e+00</td>\n",
       "      <td>2.650000e+02</td>\n",
       "      <td>2.650000e+02</td>\n",
       "      <td>1.238000e+03</td>\n",
       "    </tr>\n",
       "  </tbody>\n",
       "</table>\n",
       "</div>"
      ],
      "text/plain": [
       "           VendorID  passenger_count  PULocationID  DOLocationID   fare_amount\n",
       "count  1.227632e+06     1.227632e+06  1.243241e+06  1.243241e+06  1.243241e+06\n",
       "mean   1.676771e+00     1.568692e+00  1.627453e+02  1.607467e+02  1.302977e+01\n",
       "std    4.677094e-01     1.181809e+00  6.610786e+01  7.098176e+01  1.293962e+01\n",
       "min    1.000000e+00     0.000000e+00  1.000000e+00  1.000000e+00 -1.238000e+03\n",
       "25%    1.000000e+00     1.000000e+00  1.250000e+02  1.070000e+02  6.000000e+00\n",
       "50%    2.000000e+00     1.000000e+00  1.610000e+02  1.620000e+02  9.000000e+00\n",
       "75%    2.000000e+00     2.000000e+00  2.330000e+02  2.330000e+02  1.400000e+01\n",
       "max    2.000000e+00     9.000000e+00  2.650000e+02  2.650000e+02  1.238000e+03"
      ]
     },
     "execution_count": 86,
     "metadata": {},
     "output_type": "execute_result"
    }
   ],
   "source": [
    "Data.describe()"
   ]
  },
  {
   "cell_type": "code",
   "execution_count": 87,
   "metadata": {},
   "outputs": [
    {
     "data": {
      "text/plain": [
       "9.0"
      ]
     },
     "execution_count": 87,
     "metadata": {},
     "output_type": "execute_result"
    }
   ],
   "source": [
    "Data['passenger_count'].max()"
   ]
  },
  {
   "cell_type": "code",
   "execution_count": 88,
   "metadata": {},
   "outputs": [
    {
     "data": {
      "text/plain": [
       "1238.0"
      ]
     },
     "execution_count": 88,
     "metadata": {},
     "output_type": "execute_result"
    }
   ],
   "source": [
    "Data['fare_amount'].max()"
   ]
  },
  {
   "cell_type": "code",
   "execution_count": 89,
   "metadata": {},
   "outputs": [
    {
     "data": {
      "text/plain": [
       "13.02977364806841"
      ]
     },
     "execution_count": 89,
     "metadata": {},
     "output_type": "execute_result"
    }
   ],
   "source": [
    "Data['fare_amount'].mean()"
   ]
  },
  {
   "cell_type": "markdown",
   "metadata": {},
   "source": [
    "### Question#3"
   ]
  },
  {
   "cell_type": "code",
   "execution_count": 90,
   "metadata": {},
   "outputs": [
    {
     "data": {
      "text/plain": [
       "1243241"
      ]
     },
     "execution_count": 90,
     "metadata": {},
     "output_type": "execute_result"
    }
   ],
   "source": [
    "Data['PULocationID'].count()"
   ]
  },
  {
   "cell_type": "code",
   "execution_count": 91,
   "metadata": {},
   "outputs": [
    {
     "data": {
      "text/plain": [
       "33929"
      ]
     },
     "execution_count": 91,
     "metadata": {},
     "output_type": "execute_result"
    }
   ],
   "source": [
    "Data['PULocationID'].unique().sum()"
   ]
  },
  {
   "cell_type": "code",
   "execution_count": 92,
   "metadata": {},
   "outputs": [
    {
     "data": {
      "text/plain": [
       "1243241"
      ]
     },
     "execution_count": 92,
     "metadata": {},
     "output_type": "execute_result"
    }
   ],
   "source": [
    "Data['DOLocationID'].count()"
   ]
  },
  {
   "cell_type": "code",
   "execution_count": 93,
   "metadata": {},
   "outputs": [
    {
     "data": {
      "text/plain": [
       "34728"
      ]
     },
     "execution_count": 93,
     "metadata": {},
     "output_type": "execute_result"
    }
   ],
   "source": [
    "Data['DOLocationID'].unique().sum()"
   ]
  },
  {
   "cell_type": "code",
   "execution_count": 94,
   "metadata": {},
   "outputs": [
    {
     "data": {
      "text/plain": [
       "0    132\n",
       "dtype: int64"
      ]
     },
     "execution_count": 94,
     "metadata": {},
     "output_type": "execute_result"
    }
   ],
   "source": [
    "## Most frequently used PULocationID\n",
    "Data['PULocationID'].mode()"
   ]
  },
  {
   "cell_type": "code",
   "execution_count": 95,
   "metadata": {},
   "outputs": [
    {
     "name": "stdout",
     "output_type": "stream",
     "text": [
      "(104, 1)\n"
     ]
    }
   ],
   "source": [
    "## Least frequently used DOLocationID \n",
    "from collections import Counter\n",
    "\n",
    "data_list = Data['DOLocationID']\n",
    "least_common = Counter(data_list).most_common()[-1]\n",
    "print(least_common)"
   ]
  },
  {
   "cell_type": "markdown",
   "metadata": {},
   "source": [
    "### Question#4"
   ]
  },
  {
   "cell_type": "code",
   "execution_count": 96,
   "metadata": {},
   "outputs": [
    {
     "data": {
      "text/html": [
       "<div>\n",
       "<style scoped>\n",
       "    .dataframe tbody tr th:only-of-type {\n",
       "        vertical-align: middle;\n",
       "    }\n",
       "\n",
       "    .dataframe tbody tr th {\n",
       "        vertical-align: top;\n",
       "    }\n",
       "\n",
       "    .dataframe thead th {\n",
       "        text-align: right;\n",
       "    }\n",
       "</style>\n",
       "<table border=\"1\" class=\"dataframe\">\n",
       "  <thead>\n",
       "    <tr style=\"text-align: right;\">\n",
       "      <th></th>\n",
       "      <th>VendorID</th>\n",
       "      <th>tpep_pickup_datetime</th>\n",
       "      <th>tpep_dropoff_datetime</th>\n",
       "      <th>passenger_count</th>\n",
       "      <th>PULocationID</th>\n",
       "      <th>DOLocationID</th>\n",
       "      <th>fare_amount</th>\n",
       "    </tr>\n",
       "  </thead>\n",
       "  <tbody>\n",
       "    <tr>\n",
       "      <td>0</td>\n",
       "      <td>1.0</td>\n",
       "      <td>2020-01-01 00:28:15</td>\n",
       "      <td>2020-01-01 00:33:03</td>\n",
       "      <td>1.0</td>\n",
       "      <td>238</td>\n",
       "      <td>239</td>\n",
       "      <td>6.0</td>\n",
       "    </tr>\n",
       "  </tbody>\n",
       "</table>\n",
       "</div>"
      ],
      "text/plain": [
       "   VendorID tpep_pickup_datetime tpep_dropoff_datetime  passenger_count  \\\n",
       "0       1.0  2020-01-01 00:28:15   2020-01-01 00:33:03              1.0   \n",
       "\n",
       "   PULocationID  DOLocationID  fare_amount  \n",
       "0           238           239          6.0  "
      ]
     },
     "execution_count": 96,
     "metadata": {},
     "output_type": "execute_result"
    }
   ],
   "source": [
    "Data.head(1)"
   ]
  },
  {
   "cell_type": "code",
   "execution_count": 97,
   "metadata": {},
   "outputs": [],
   "source": [
    "Data.tpep_pickup_datetime = pd.to_datetime(Data.tpep_pickup_datetime)\n",
    "Data.tpep_pickup_datetime = pd.DatetimeIndex(Data.tpep_pickup_datetime)"
   ]
  },
  {
   "cell_type": "code",
   "execution_count": 98,
   "metadata": {},
   "outputs": [],
   "source": [
    "Data.tpep_dropoff_datetime = pd.to_datetime(Data.tpep_dropoff_datetime)\n",
    "Data.tpep_dropoff_datetime = pd.DatetimeIndex(Data.tpep_dropoff_datetime)"
   ]
  },
  {
   "cell_type": "code",
   "execution_count": 99,
   "metadata": {},
   "outputs": [
    {
     "name": "stdout",
     "output_type": "stream",
     "text": [
      "<class 'pandas.core.frame.DataFrame'>\n",
      "RangeIndex: 1243241 entries, 0 to 1243240\n",
      "Data columns (total 7 columns):\n",
      "VendorID                 1227632 non-null float64\n",
      "tpep_pickup_datetime     1243241 non-null datetime64[ns]\n",
      "tpep_dropoff_datetime    1243241 non-null datetime64[ns]\n",
      "passenger_count          1227632 non-null float64\n",
      "PULocationID             1243241 non-null int64\n",
      "DOLocationID             1243241 non-null int64\n",
      "fare_amount              1243241 non-null float64\n",
      "dtypes: datetime64[ns](2), float64(3), int64(2)\n",
      "memory usage: 66.4 MB\n"
     ]
    }
   ],
   "source": [
    "Data.info()"
   ]
  },
  {
   "cell_type": "code",
   "execution_count": 100,
   "metadata": {},
   "outputs": [],
   "source": [
    "Data['PUweekday'] = Data.tpep_pickup_datetime.dt.day_name()\n",
    "Data['DOweekday'] = Data.tpep_dropoff_datetime.dt.day_name()"
   ]
  },
  {
   "cell_type": "code",
   "execution_count": 101,
   "metadata": {},
   "outputs": [
    {
     "data": {
      "text/html": [
       "<div>\n",
       "<style scoped>\n",
       "    .dataframe tbody tr th:only-of-type {\n",
       "        vertical-align: middle;\n",
       "    }\n",
       "\n",
       "    .dataframe tbody tr th {\n",
       "        vertical-align: top;\n",
       "    }\n",
       "\n",
       "    .dataframe thead th {\n",
       "        text-align: right;\n",
       "    }\n",
       "</style>\n",
       "<table border=\"1\" class=\"dataframe\">\n",
       "  <thead>\n",
       "    <tr style=\"text-align: right;\">\n",
       "      <th></th>\n",
       "      <th>VendorID</th>\n",
       "      <th>tpep_pickup_datetime</th>\n",
       "      <th>tpep_dropoff_datetime</th>\n",
       "      <th>passenger_count</th>\n",
       "      <th>PULocationID</th>\n",
       "      <th>DOLocationID</th>\n",
       "      <th>fare_amount</th>\n",
       "      <th>PUweekday</th>\n",
       "      <th>DOweekday</th>\n",
       "    </tr>\n",
       "  </thead>\n",
       "  <tbody>\n",
       "    <tr>\n",
       "      <td>0</td>\n",
       "      <td>1.0</td>\n",
       "      <td>2020-01-01 00:28:15</td>\n",
       "      <td>2020-01-01 00:33:03</td>\n",
       "      <td>1.0</td>\n",
       "      <td>238</td>\n",
       "      <td>239</td>\n",
       "      <td>6.0</td>\n",
       "      <td>Wednesday</td>\n",
       "      <td>Wednesday</td>\n",
       "    </tr>\n",
       "    <tr>\n",
       "      <td>1</td>\n",
       "      <td>1.0</td>\n",
       "      <td>2020-01-01 00:35:39</td>\n",
       "      <td>2020-01-01 00:43:04</td>\n",
       "      <td>1.0</td>\n",
       "      <td>239</td>\n",
       "      <td>238</td>\n",
       "      <td>7.0</td>\n",
       "      <td>Wednesday</td>\n",
       "      <td>Wednesday</td>\n",
       "    </tr>\n",
       "  </tbody>\n",
       "</table>\n",
       "</div>"
      ],
      "text/plain": [
       "   VendorID tpep_pickup_datetime tpep_dropoff_datetime  passenger_count  \\\n",
       "0       1.0  2020-01-01 00:28:15   2020-01-01 00:33:03              1.0   \n",
       "1       1.0  2020-01-01 00:35:39   2020-01-01 00:43:04              1.0   \n",
       "\n",
       "   PULocationID  DOLocationID  fare_amount  PUweekday  DOweekday  \n",
       "0           238           239          6.0  Wednesday  Wednesday  \n",
       "1           239           238          7.0  Wednesday  Wednesday  "
      ]
     },
     "execution_count": 101,
     "metadata": {},
     "output_type": "execute_result"
    }
   ],
   "source": [
    "Data.head(2)"
   ]
  },
  {
   "cell_type": "code",
   "execution_count": 102,
   "metadata": {},
   "outputs": [
    {
     "data": {
      "text/plain": [
       "PUweekday\n",
       "Friday       29942232\n",
       "Monday       29784432\n",
       "Saturday     29479940\n",
       "Sunday       26421289\n",
       "Thursday     26460134\n",
       "Tuesday      33599293\n",
       "Wednesday    26644296\n",
       "Name: PULocationID, dtype: int64"
      ]
     },
     "execution_count": 102,
     "metadata": {},
     "output_type": "execute_result"
    }
   ],
   "source": [
    "Data.groupby('PUweekday')['PULocationID'].sum()"
   ]
  },
  {
   "cell_type": "code",
   "execution_count": 103,
   "metadata": {},
   "outputs": [
    {
     "data": {
      "text/plain": [
       "DOweekday\n",
       "Friday       29440867\n",
       "Monday       29454581\n",
       "Saturday     29053902\n",
       "Sunday       26417825\n",
       "Thursday     26071426\n",
       "Tuesday      33140443\n",
       "Wednesday    26267820\n",
       "Name: DOLocationID, dtype: int64"
      ]
     },
     "execution_count": 103,
     "metadata": {},
     "output_type": "execute_result"
    }
   ],
   "source": [
    "Data.groupby('DOweekday')['DOLocationID'].sum()"
   ]
  },
  {
   "cell_type": "code",
   "execution_count": 104,
   "metadata": {},
   "outputs": [
    {
     "data": {
      "text/html": [
       "<div>\n",
       "<style scoped>\n",
       "    .dataframe tbody tr th:only-of-type {\n",
       "        vertical-align: middle;\n",
       "    }\n",
       "\n",
       "    .dataframe tbody tr th {\n",
       "        vertical-align: top;\n",
       "    }\n",
       "\n",
       "    .dataframe thead th {\n",
       "        text-align: right;\n",
       "    }\n",
       "</style>\n",
       "<table border=\"1\" class=\"dataframe\">\n",
       "  <thead>\n",
       "    <tr style=\"text-align: right;\">\n",
       "      <th></th>\n",
       "      <th>VendorID</th>\n",
       "      <th>tpep_pickup_datetime</th>\n",
       "      <th>tpep_dropoff_datetime</th>\n",
       "      <th>passenger_count</th>\n",
       "      <th>PULocationID</th>\n",
       "      <th>DOLocationID</th>\n",
       "      <th>fare_amount</th>\n",
       "      <th>PUweekday</th>\n",
       "      <th>DOweekday</th>\n",
       "    </tr>\n",
       "  </thead>\n",
       "  <tbody>\n",
       "    <tr>\n",
       "      <td>1243231</td>\n",
       "      <td>NaN</td>\n",
       "      <td>2020-01-07 09:18:41</td>\n",
       "      <td>2020-01-07 09:56:10</td>\n",
       "      <td>NaN</td>\n",
       "      <td>91</td>\n",
       "      <td>231</td>\n",
       "      <td>29.60</td>\n",
       "      <td>Tuesday</td>\n",
       "      <td>Tuesday</td>\n",
       "    </tr>\n",
       "    <tr>\n",
       "      <td>1243232</td>\n",
       "      <td>NaN</td>\n",
       "      <td>2020-01-07 09:18:41</td>\n",
       "      <td>2020-01-07 09:56:10</td>\n",
       "      <td>NaN</td>\n",
       "      <td>91</td>\n",
       "      <td>231</td>\n",
       "      <td>29.60</td>\n",
       "      <td>Tuesday</td>\n",
       "      <td>Tuesday</td>\n",
       "    </tr>\n",
       "    <tr>\n",
       "      <td>1243233</td>\n",
       "      <td>NaN</td>\n",
       "      <td>2020-01-07 09:37:00</td>\n",
       "      <td>2020-01-07 10:06:00</td>\n",
       "      <td>NaN</td>\n",
       "      <td>164</td>\n",
       "      <td>74</td>\n",
       "      <td>28.95</td>\n",
       "      <td>Tuesday</td>\n",
       "      <td>Tuesday</td>\n",
       "    </tr>\n",
       "    <tr>\n",
       "      <td>1243234</td>\n",
       "      <td>NaN</td>\n",
       "      <td>2020-01-07 09:37:00</td>\n",
       "      <td>2020-01-07 10:06:00</td>\n",
       "      <td>NaN</td>\n",
       "      <td>164</td>\n",
       "      <td>74</td>\n",
       "      <td>28.95</td>\n",
       "      <td>Tuesday</td>\n",
       "      <td>Tuesday</td>\n",
       "    </tr>\n",
       "    <tr>\n",
       "      <td>1243235</td>\n",
       "      <td>NaN</td>\n",
       "      <td>2020-01-07 09:18:00</td>\n",
       "      <td>2020-01-07 09:55:00</td>\n",
       "      <td>NaN</td>\n",
       "      <td>151</td>\n",
       "      <td>145</td>\n",
       "      <td>28.36</td>\n",
       "      <td>Tuesday</td>\n",
       "      <td>Tuesday</td>\n",
       "    </tr>\n",
       "    <tr>\n",
       "      <td>1243236</td>\n",
       "      <td>NaN</td>\n",
       "      <td>2020-01-07 09:18:00</td>\n",
       "      <td>2020-01-07 09:55:00</td>\n",
       "      <td>NaN</td>\n",
       "      <td>151</td>\n",
       "      <td>145</td>\n",
       "      <td>28.36</td>\n",
       "      <td>Tuesday</td>\n",
       "      <td>Tuesday</td>\n",
       "    </tr>\n",
       "    <tr>\n",
       "      <td>1243237</td>\n",
       "      <td>NaN</td>\n",
       "      <td>2020-01-07 09:05:00</td>\n",
       "      <td>2020-01-07 09:30:00</td>\n",
       "      <td>NaN</td>\n",
       "      <td>259</td>\n",
       "      <td>78</td>\n",
       "      <td>24.36</td>\n",
       "      <td>Tuesday</td>\n",
       "      <td>Tuesday</td>\n",
       "    </tr>\n",
       "    <tr>\n",
       "      <td>1243238</td>\n",
       "      <td>NaN</td>\n",
       "      <td>2020-01-07 09:05:00</td>\n",
       "      <td>2020-01-07 09:30:00</td>\n",
       "      <td>NaN</td>\n",
       "      <td>259</td>\n",
       "      <td>78</td>\n",
       "      <td>24.36</td>\n",
       "      <td>Tuesday</td>\n",
       "      <td>Tuesday</td>\n",
       "    </tr>\n",
       "    <tr>\n",
       "      <td>1243239</td>\n",
       "      <td>NaN</td>\n",
       "      <td>2020-01-07 09:49:00</td>\n",
       "      <td>2020-01-07 09:58:00</td>\n",
       "      <td>NaN</td>\n",
       "      <td>116</td>\n",
       "      <td>166</td>\n",
       "      <td>20.06</td>\n",
       "      <td>Tuesday</td>\n",
       "      <td>Tuesday</td>\n",
       "    </tr>\n",
       "    <tr>\n",
       "      <td>1243240</td>\n",
       "      <td>NaN</td>\n",
       "      <td>2020-01-07 09:49:00</td>\n",
       "      <td>2020-01-07 09:58:00</td>\n",
       "      <td>NaN</td>\n",
       "      <td>116</td>\n",
       "      <td>166</td>\n",
       "      <td>20.06</td>\n",
       "      <td>Tuesday</td>\n",
       "      <td>Tuesday</td>\n",
       "    </tr>\n",
       "  </tbody>\n",
       "</table>\n",
       "</div>"
      ],
      "text/plain": [
       "         VendorID tpep_pickup_datetime tpep_dropoff_datetime  passenger_count  \\\n",
       "1243231       NaN  2020-01-07 09:18:41   2020-01-07 09:56:10              NaN   \n",
       "1243232       NaN  2020-01-07 09:18:41   2020-01-07 09:56:10              NaN   \n",
       "1243233       NaN  2020-01-07 09:37:00   2020-01-07 10:06:00              NaN   \n",
       "1243234       NaN  2020-01-07 09:37:00   2020-01-07 10:06:00              NaN   \n",
       "1243235       NaN  2020-01-07 09:18:00   2020-01-07 09:55:00              NaN   \n",
       "1243236       NaN  2020-01-07 09:18:00   2020-01-07 09:55:00              NaN   \n",
       "1243237       NaN  2020-01-07 09:05:00   2020-01-07 09:30:00              NaN   \n",
       "1243238       NaN  2020-01-07 09:05:00   2020-01-07 09:30:00              NaN   \n",
       "1243239       NaN  2020-01-07 09:49:00   2020-01-07 09:58:00              NaN   \n",
       "1243240       NaN  2020-01-07 09:49:00   2020-01-07 09:58:00              NaN   \n",
       "\n",
       "         PULocationID  DOLocationID  fare_amount PUweekday DOweekday  \n",
       "1243231            91           231        29.60   Tuesday   Tuesday  \n",
       "1243232            91           231        29.60   Tuesday   Tuesday  \n",
       "1243233           164            74        28.95   Tuesday   Tuesday  \n",
       "1243234           164            74        28.95   Tuesday   Tuesday  \n",
       "1243235           151           145        28.36   Tuesday   Tuesday  \n",
       "1243236           151           145        28.36   Tuesday   Tuesday  \n",
       "1243237           259            78        24.36   Tuesday   Tuesday  \n",
       "1243238           259            78        24.36   Tuesday   Tuesday  \n",
       "1243239           116           166        20.06   Tuesday   Tuesday  \n",
       "1243240           116           166        20.06   Tuesday   Tuesday  "
      ]
     },
     "execution_count": 104,
     "metadata": {},
     "output_type": "execute_result"
    }
   ],
   "source": [
    "Data.tail(10)"
   ]
  },
  {
   "cell_type": "markdown",
   "metadata": {},
   "source": [
    "### Question#5"
   ]
  },
  {
   "cell_type": "code",
   "execution_count": 105,
   "metadata": {},
   "outputs": [
    {
     "data": {
      "text/html": [
       "<div>\n",
       "<style scoped>\n",
       "    .dataframe tbody tr th:only-of-type {\n",
       "        vertical-align: middle;\n",
       "    }\n",
       "\n",
       "    .dataframe tbody tr th {\n",
       "        vertical-align: top;\n",
       "    }\n",
       "\n",
       "    .dataframe thead th {\n",
       "        text-align: right;\n",
       "    }\n",
       "</style>\n",
       "<table border=\"1\" class=\"dataframe\">\n",
       "  <thead>\n",
       "    <tr style=\"text-align: right;\">\n",
       "      <th></th>\n",
       "      <th>VendorID</th>\n",
       "      <th>tpep_pickup_datetime</th>\n",
       "      <th>tpep_dropoff_datetime</th>\n",
       "      <th>passenger_count</th>\n",
       "      <th>PULocationID</th>\n",
       "      <th>DOLocationID</th>\n",
       "      <th>fare_amount</th>\n",
       "      <th>PUweekday</th>\n",
       "      <th>DOweekday</th>\n",
       "    </tr>\n",
       "  </thead>\n",
       "  <tbody>\n",
       "    <tr>\n",
       "      <td>195</td>\n",
       "      <td>2.0</td>\n",
       "      <td>2020-01-01 00:38:43</td>\n",
       "      <td>2020-01-01 00:54:55</td>\n",
       "      <td>6.0</td>\n",
       "      <td>236</td>\n",
       "      <td>170</td>\n",
       "      <td>12.0</td>\n",
       "      <td>Wednesday</td>\n",
       "      <td>Wednesday</td>\n",
       "    </tr>\n",
       "    <tr>\n",
       "      <td>218</td>\n",
       "      <td>2.0</td>\n",
       "      <td>2020-01-01 00:24:07</td>\n",
       "      <td>2020-01-01 00:27:48</td>\n",
       "      <td>6.0</td>\n",
       "      <td>129</td>\n",
       "      <td>260</td>\n",
       "      <td>5.5</td>\n",
       "      <td>Wednesday</td>\n",
       "      <td>Wednesday</td>\n",
       "    </tr>\n",
       "    <tr>\n",
       "      <td>219</td>\n",
       "      <td>2.0</td>\n",
       "      <td>2020-01-01 00:39:43</td>\n",
       "      <td>2020-01-01 00:45:55</td>\n",
       "      <td>6.0</td>\n",
       "      <td>226</td>\n",
       "      <td>260</td>\n",
       "      <td>7.0</td>\n",
       "      <td>Wednesday</td>\n",
       "      <td>Wednesday</td>\n",
       "    </tr>\n",
       "    <tr>\n",
       "      <td>220</td>\n",
       "      <td>2.0</td>\n",
       "      <td>2020-01-01 00:48:29</td>\n",
       "      <td>2020-01-01 00:55:05</td>\n",
       "      <td>6.0</td>\n",
       "      <td>260</td>\n",
       "      <td>129</td>\n",
       "      <td>6.5</td>\n",
       "      <td>Wednesday</td>\n",
       "      <td>Wednesday</td>\n",
       "    </tr>\n",
       "    <tr>\n",
       "      <td>453</td>\n",
       "      <td>2.0</td>\n",
       "      <td>2020-01-01 00:47:13</td>\n",
       "      <td>2020-01-01 00:54:52</td>\n",
       "      <td>6.0</td>\n",
       "      <td>161</td>\n",
       "      <td>140</td>\n",
       "      <td>7.5</td>\n",
       "      <td>Wednesday</td>\n",
       "      <td>Wednesday</td>\n",
       "    </tr>\n",
       "    <tr>\n",
       "      <td>...</td>\n",
       "      <td>...</td>\n",
       "      <td>...</td>\n",
       "      <td>...</td>\n",
       "      <td>...</td>\n",
       "      <td>...</td>\n",
       "      <td>...</td>\n",
       "      <td>...</td>\n",
       "      <td>...</td>\n",
       "      <td>...</td>\n",
       "    </tr>\n",
       "    <tr>\n",
       "      <td>1227569</td>\n",
       "      <td>2.0</td>\n",
       "      <td>2020-01-07 20:28:35</td>\n",
       "      <td>2020-01-07 20:35:20</td>\n",
       "      <td>6.0</td>\n",
       "      <td>163</td>\n",
       "      <td>170</td>\n",
       "      <td>7.0</td>\n",
       "      <td>Tuesday</td>\n",
       "      <td>Tuesday</td>\n",
       "    </tr>\n",
       "    <tr>\n",
       "      <td>1227576</td>\n",
       "      <td>2.0</td>\n",
       "      <td>2020-01-07 23:57:24</td>\n",
       "      <td>2020-01-08 00:05:22</td>\n",
       "      <td>6.0</td>\n",
       "      <td>229</td>\n",
       "      <td>186</td>\n",
       "      <td>8.0</td>\n",
       "      <td>Tuesday</td>\n",
       "      <td>Wednesday</td>\n",
       "    </tr>\n",
       "    <tr>\n",
       "      <td>1227577</td>\n",
       "      <td>2.0</td>\n",
       "      <td>2020-01-07 23:55:28</td>\n",
       "      <td>2020-01-08 00:01:55</td>\n",
       "      <td>6.0</td>\n",
       "      <td>230</td>\n",
       "      <td>163</td>\n",
       "      <td>6.0</td>\n",
       "      <td>Tuesday</td>\n",
       "      <td>Wednesday</td>\n",
       "    </tr>\n",
       "    <tr>\n",
       "      <td>1227592</td>\n",
       "      <td>2.0</td>\n",
       "      <td>2020-01-07 23:58:26</td>\n",
       "      <td>2020-01-08 00:07:45</td>\n",
       "      <td>6.0</td>\n",
       "      <td>161</td>\n",
       "      <td>79</td>\n",
       "      <td>9.5</td>\n",
       "      <td>Tuesday</td>\n",
       "      <td>Wednesday</td>\n",
       "    </tr>\n",
       "    <tr>\n",
       "      <td>1227611</td>\n",
       "      <td>2.0</td>\n",
       "      <td>2020-01-07 23:59:13</td>\n",
       "      <td>2020-01-08 00:04:34</td>\n",
       "      <td>6.0</td>\n",
       "      <td>142</td>\n",
       "      <td>238</td>\n",
       "      <td>6.5</td>\n",
       "      <td>Tuesday</td>\n",
       "      <td>Wednesday</td>\n",
       "    </tr>\n",
       "  </tbody>\n",
       "</table>\n",
       "<p>19443 rows × 9 columns</p>\n",
       "</div>"
      ],
      "text/plain": [
       "         VendorID tpep_pickup_datetime tpep_dropoff_datetime  passenger_count  \\\n",
       "195           2.0  2020-01-01 00:38:43   2020-01-01 00:54:55              6.0   \n",
       "218           2.0  2020-01-01 00:24:07   2020-01-01 00:27:48              6.0   \n",
       "219           2.0  2020-01-01 00:39:43   2020-01-01 00:45:55              6.0   \n",
       "220           2.0  2020-01-01 00:48:29   2020-01-01 00:55:05              6.0   \n",
       "453           2.0  2020-01-01 00:47:13   2020-01-01 00:54:52              6.0   \n",
       "...           ...                  ...                   ...              ...   \n",
       "1227569       2.0  2020-01-07 20:28:35   2020-01-07 20:35:20              6.0   \n",
       "1227576       2.0  2020-01-07 23:57:24   2020-01-08 00:05:22              6.0   \n",
       "1227577       2.0  2020-01-07 23:55:28   2020-01-08 00:01:55              6.0   \n",
       "1227592       2.0  2020-01-07 23:58:26   2020-01-08 00:07:45              6.0   \n",
       "1227611       2.0  2020-01-07 23:59:13   2020-01-08 00:04:34              6.0   \n",
       "\n",
       "         PULocationID  DOLocationID  fare_amount  PUweekday  DOweekday  \n",
       "195               236           170         12.0  Wednesday  Wednesday  \n",
       "218               129           260          5.5  Wednesday  Wednesday  \n",
       "219               226           260          7.0  Wednesday  Wednesday  \n",
       "220               260           129          6.5  Wednesday  Wednesday  \n",
       "453               161           140          7.5  Wednesday  Wednesday  \n",
       "...               ...           ...          ...        ...        ...  \n",
       "1227569           163           170          7.0    Tuesday    Tuesday  \n",
       "1227576           229           186          8.0    Tuesday  Wednesday  \n",
       "1227577           230           163          6.0    Tuesday  Wednesday  \n",
       "1227592           161            79          9.5    Tuesday  Wednesday  \n",
       "1227611           142           238          6.5    Tuesday  Wednesday  \n",
       "\n",
       "[19443 rows x 9 columns]"
      ]
     },
     "execution_count": 105,
     "metadata": {},
     "output_type": "execute_result"
    }
   ],
   "source": [
    "new_df = Data[(Data['VendorID'] == 2) & (Data.fare_amount < Data.fare_amount.mean()) & (Data.passenger_count > 5)]\n",
    "new_df"
   ]
  },
  {
   "cell_type": "code",
   "execution_count": 106,
   "metadata": {},
   "outputs": [
    {
     "data": {
      "text/plain": [
       "(19443, 9)"
      ]
     },
     "execution_count": 106,
     "metadata": {},
     "output_type": "execute_result"
    }
   ],
   "source": [
    "new_df.shape"
   ]
  },
  {
   "cell_type": "code",
   "execution_count": 107,
   "metadata": {},
   "outputs": [
    {
     "data": {
      "text/plain": [
       "VendorID                 0\n",
       "tpep_pickup_datetime     0\n",
       "tpep_dropoff_datetime    0\n",
       "passenger_count          0\n",
       "PULocationID             0\n",
       "DOLocationID             0\n",
       "fare_amount              0\n",
       "PUweekday                0\n",
       "DOweekday                0\n",
       "dtype: int64"
      ]
     },
     "execution_count": 107,
     "metadata": {},
     "output_type": "execute_result"
    }
   ],
   "source": [
    "new_df.isnull().sum()"
   ]
  },
  {
   "cell_type": "code",
   "execution_count": 108,
   "metadata": {},
   "outputs": [
    {
     "data": {
      "text/plain": [
       "7.63299490819318"
      ]
     },
     "execution_count": 108,
     "metadata": {},
     "output_type": "execute_result"
    }
   ],
   "source": [
    "new_df['fare_amount'].mean()"
   ]
  },
  {
   "cell_type": "code",
   "execution_count": 109,
   "metadata": {},
   "outputs": [
    {
     "data": {
      "text/plain": [
       "7.5"
      ]
     },
     "execution_count": 109,
     "metadata": {},
     "output_type": "execute_result"
    }
   ],
   "source": [
    "new_df['fare_amount'].median()"
   ]
  },
  {
   "cell_type": "code",
   "execution_count": 110,
   "metadata": {},
   "outputs": [
    {
     "data": {
      "text/plain": [
       "6.000257161960603"
      ]
     },
     "execution_count": 110,
     "metadata": {},
     "output_type": "execute_result"
    }
   ],
   "source": [
    "new_df['passenger_count'].mean()"
   ]
  },
  {
   "cell_type": "code",
   "execution_count": 111,
   "metadata": {},
   "outputs": [
    {
     "data": {
      "text/plain": [
       "PUweekday\n",
       "Friday       471695\n",
       "Monday       445852\n",
       "Saturday     508147\n",
       "Sunday       408676\n",
       "Thursday     444101\n",
       "Tuesday      524933\n",
       "Wednesday    424095\n",
       "Name: PULocationID, dtype: int64"
      ]
     },
     "execution_count": 111,
     "metadata": {},
     "output_type": "execute_result"
    }
   ],
   "source": [
    "new_df.groupby('PUweekday')['PULocationID'].sum()"
   ]
  },
  {
   "cell_type": "code",
   "execution_count": 112,
   "metadata": {},
   "outputs": [
    {
     "data": {
      "text/plain": [
       "PUweekday\n",
       "Friday       475567\n",
       "Monday       444341\n",
       "Saturday     503939\n",
       "Sunday       408639\n",
       "Thursday     444375\n",
       "Tuesday      520222\n",
       "Wednesday    416619\n",
       "Name: DOLocationID, dtype: int64"
      ]
     },
     "execution_count": 112,
     "metadata": {},
     "output_type": "execute_result"
    }
   ],
   "source": [
    "new_df.groupby('PUweekday')['DOLocationID'].sum()"
   ]
  },
  {
   "cell_type": "markdown",
   "metadata": {},
   "source": [
    "### Question#6"
   ]
  },
  {
   "cell_type": "code",
   "execution_count": 131,
   "metadata": {},
   "outputs": [],
   "source": [
    "data2 = Data.copy()"
   ]
  },
  {
   "cell_type": "code",
   "execution_count": 132,
   "metadata": {},
   "outputs": [],
   "source": [
    "data3 = Data.copy()"
   ]
  },
  {
   "cell_type": "code",
   "execution_count": 133,
   "metadata": {},
   "outputs": [
    {
     "data": {
      "text/html": [
       "<div>\n",
       "<style scoped>\n",
       "    .dataframe tbody tr th:only-of-type {\n",
       "        vertical-align: middle;\n",
       "    }\n",
       "\n",
       "    .dataframe tbody tr th {\n",
       "        vertical-align: top;\n",
       "    }\n",
       "\n",
       "    .dataframe thead th {\n",
       "        text-align: right;\n",
       "    }\n",
       "</style>\n",
       "<table border=\"1\" class=\"dataframe\">\n",
       "  <thead>\n",
       "    <tr style=\"text-align: right;\">\n",
       "      <th></th>\n",
       "      <th>VendorID</th>\n",
       "      <th>tpep_pickup_datetime</th>\n",
       "      <th>tpep_dropoff_datetime</th>\n",
       "      <th>passenger_count</th>\n",
       "      <th>PULocationID</th>\n",
       "      <th>DOLocationID</th>\n",
       "      <th>fare_amount</th>\n",
       "      <th>PUweekday</th>\n",
       "      <th>DOweekday</th>\n",
       "    </tr>\n",
       "  </thead>\n",
       "  <tbody>\n",
       "    <tr>\n",
       "      <td>0</td>\n",
       "      <td>1.0</td>\n",
       "      <td>2020-01-01 00:28:15</td>\n",
       "      <td>2020-01-01 00:33:03</td>\n",
       "      <td>1.0</td>\n",
       "      <td>238</td>\n",
       "      <td>239</td>\n",
       "      <td>6.0</td>\n",
       "      <td>Wednesday</td>\n",
       "      <td>Wednesday</td>\n",
       "    </tr>\n",
       "    <tr>\n",
       "      <td>1</td>\n",
       "      <td>1.0</td>\n",
       "      <td>2020-01-01 00:35:39</td>\n",
       "      <td>2020-01-01 00:43:04</td>\n",
       "      <td>1.0</td>\n",
       "      <td>239</td>\n",
       "      <td>238</td>\n",
       "      <td>7.0</td>\n",
       "      <td>Wednesday</td>\n",
       "      <td>Wednesday</td>\n",
       "    </tr>\n",
       "    <tr>\n",
       "      <td>2</td>\n",
       "      <td>1.0</td>\n",
       "      <td>2020-01-01 00:47:41</td>\n",
       "      <td>2020-01-01 00:53:52</td>\n",
       "      <td>1.0</td>\n",
       "      <td>238</td>\n",
       "      <td>238</td>\n",
       "      <td>6.0</td>\n",
       "      <td>Wednesday</td>\n",
       "      <td>Wednesday</td>\n",
       "    </tr>\n",
       "    <tr>\n",
       "      <td>3</td>\n",
       "      <td>1.0</td>\n",
       "      <td>2020-01-01 00:55:23</td>\n",
       "      <td>2020-01-01 01:00:14</td>\n",
       "      <td>1.0</td>\n",
       "      <td>238</td>\n",
       "      <td>151</td>\n",
       "      <td>5.5</td>\n",
       "      <td>Wednesday</td>\n",
       "      <td>Wednesday</td>\n",
       "    </tr>\n",
       "    <tr>\n",
       "      <td>4</td>\n",
       "      <td>2.0</td>\n",
       "      <td>2020-01-01 00:01:58</td>\n",
       "      <td>2020-01-01 00:04:16</td>\n",
       "      <td>1.0</td>\n",
       "      <td>193</td>\n",
       "      <td>193</td>\n",
       "      <td>3.5</td>\n",
       "      <td>Wednesday</td>\n",
       "      <td>Wednesday</td>\n",
       "    </tr>\n",
       "  </tbody>\n",
       "</table>\n",
       "</div>"
      ],
      "text/plain": [
       "   VendorID tpep_pickup_datetime tpep_dropoff_datetime  passenger_count  \\\n",
       "0       1.0  2020-01-01 00:28:15   2020-01-01 00:33:03              1.0   \n",
       "1       1.0  2020-01-01 00:35:39   2020-01-01 00:43:04              1.0   \n",
       "2       1.0  2020-01-01 00:47:41   2020-01-01 00:53:52              1.0   \n",
       "3       1.0  2020-01-01 00:55:23   2020-01-01 01:00:14              1.0   \n",
       "4       2.0  2020-01-01 00:01:58   2020-01-01 00:04:16              1.0   \n",
       "\n",
       "   PULocationID  DOLocationID  fare_amount  PUweekday  DOweekday  \n",
       "0           238           239          6.0  Wednesday  Wednesday  \n",
       "1           239           238          7.0  Wednesday  Wednesday  \n",
       "2           238           238          6.0  Wednesday  Wednesday  \n",
       "3           238           151          5.5  Wednesday  Wednesday  \n",
       "4           193           193          3.5  Wednesday  Wednesday  "
      ]
     },
     "execution_count": 133,
     "metadata": {},
     "output_type": "execute_result"
    }
   ],
   "source": [
    "data2.head()"
   ]
  },
  {
   "cell_type": "code",
   "execution_count": 135,
   "metadata": {},
   "outputs": [
    {
     "data": {
      "text/plain": [
       "1.0"
      ]
     },
     "execution_count": 135,
     "metadata": {},
     "output_type": "execute_result"
    }
   ],
   "source": [
    "## with missing values\n",
    "data2.passenger_count.median()"
   ]
  },
  {
   "cell_type": "code",
   "execution_count": 134,
   "metadata": {},
   "outputs": [
    {
     "data": {
      "text/html": [
       "<div>\n",
       "<style scoped>\n",
       "    .dataframe tbody tr th:only-of-type {\n",
       "        vertical-align: middle;\n",
       "    }\n",
       "\n",
       "    .dataframe tbody tr th {\n",
       "        vertical-align: top;\n",
       "    }\n",
       "\n",
       "    .dataframe thead th {\n",
       "        text-align: right;\n",
       "    }\n",
       "</style>\n",
       "<table border=\"1\" class=\"dataframe\">\n",
       "  <thead>\n",
       "    <tr style=\"text-align: right;\">\n",
       "      <th></th>\n",
       "      <th>VendorID</th>\n",
       "      <th>tpep_pickup_datetime</th>\n",
       "      <th>tpep_dropoff_datetime</th>\n",
       "      <th>passenger_count</th>\n",
       "      <th>PULocationID</th>\n",
       "      <th>DOLocationID</th>\n",
       "      <th>fare_amount</th>\n",
       "      <th>PUweekday</th>\n",
       "      <th>DOweekday</th>\n",
       "    </tr>\n",
       "  </thead>\n",
       "  <tbody>\n",
       "    <tr>\n",
       "      <td>0</td>\n",
       "      <td>1.0</td>\n",
       "      <td>2020-01-01 00:28:15</td>\n",
       "      <td>2020-01-01 00:33:03</td>\n",
       "      <td>1.0</td>\n",
       "      <td>238</td>\n",
       "      <td>239</td>\n",
       "      <td>6.0</td>\n",
       "      <td>Wednesday</td>\n",
       "      <td>Wednesday</td>\n",
       "    </tr>\n",
       "    <tr>\n",
       "      <td>1</td>\n",
       "      <td>1.0</td>\n",
       "      <td>2020-01-01 00:35:39</td>\n",
       "      <td>2020-01-01 00:43:04</td>\n",
       "      <td>1.0</td>\n",
       "      <td>239</td>\n",
       "      <td>238</td>\n",
       "      <td>7.0</td>\n",
       "      <td>Wednesday</td>\n",
       "      <td>Wednesday</td>\n",
       "    </tr>\n",
       "    <tr>\n",
       "      <td>2</td>\n",
       "      <td>1.0</td>\n",
       "      <td>2020-01-01 00:47:41</td>\n",
       "      <td>2020-01-01 00:53:52</td>\n",
       "      <td>1.0</td>\n",
       "      <td>238</td>\n",
       "      <td>238</td>\n",
       "      <td>6.0</td>\n",
       "      <td>Wednesday</td>\n",
       "      <td>Wednesday</td>\n",
       "    </tr>\n",
       "    <tr>\n",
       "      <td>3</td>\n",
       "      <td>1.0</td>\n",
       "      <td>2020-01-01 00:55:23</td>\n",
       "      <td>2020-01-01 01:00:14</td>\n",
       "      <td>1.0</td>\n",
       "      <td>238</td>\n",
       "      <td>151</td>\n",
       "      <td>5.5</td>\n",
       "      <td>Wednesday</td>\n",
       "      <td>Wednesday</td>\n",
       "    </tr>\n",
       "    <tr>\n",
       "      <td>4</td>\n",
       "      <td>2.0</td>\n",
       "      <td>2020-01-01 00:01:58</td>\n",
       "      <td>2020-01-01 00:04:16</td>\n",
       "      <td>1.0</td>\n",
       "      <td>193</td>\n",
       "      <td>193</td>\n",
       "      <td>3.5</td>\n",
       "      <td>Wednesday</td>\n",
       "      <td>Wednesday</td>\n",
       "    </tr>\n",
       "  </tbody>\n",
       "</table>\n",
       "</div>"
      ],
      "text/plain": [
       "   VendorID tpep_pickup_datetime tpep_dropoff_datetime  passenger_count  \\\n",
       "0       1.0  2020-01-01 00:28:15   2020-01-01 00:33:03              1.0   \n",
       "1       1.0  2020-01-01 00:35:39   2020-01-01 00:43:04              1.0   \n",
       "2       1.0  2020-01-01 00:47:41   2020-01-01 00:53:52              1.0   \n",
       "3       1.0  2020-01-01 00:55:23   2020-01-01 01:00:14              1.0   \n",
       "4       2.0  2020-01-01 00:01:58   2020-01-01 00:04:16              1.0   \n",
       "\n",
       "   PULocationID  DOLocationID  fare_amount  PUweekday  DOweekday  \n",
       "0           238           239          6.0  Wednesday  Wednesday  \n",
       "1           239           238          7.0  Wednesday  Wednesday  \n",
       "2           238           238          6.0  Wednesday  Wednesday  \n",
       "3           238           151          5.5  Wednesday  Wednesday  \n",
       "4           193           193          3.5  Wednesday  Wednesday  "
      ]
     },
     "execution_count": 134,
     "metadata": {},
     "output_type": "execute_result"
    }
   ],
   "source": [
    "data3.head()"
   ]
  },
  {
   "cell_type": "code",
   "execution_count": 136,
   "metadata": {},
   "outputs": [
    {
     "data": {
      "text/plain": [
       "1.0"
      ]
     },
     "execution_count": 136,
     "metadata": {},
     "output_type": "execute_result"
    }
   ],
   "source": [
    "### with missing values\n",
    "data3.passenger_count.median()"
   ]
  },
  {
   "cell_type": "code",
   "execution_count": 137,
   "metadata": {},
   "outputs": [
    {
     "data": {
      "text/plain": [
       "VendorID                 15609\n",
       "tpep_pickup_datetime         0\n",
       "tpep_dropoff_datetime        0\n",
       "passenger_count          15609\n",
       "PULocationID                 0\n",
       "DOLocationID                 0\n",
       "fare_amount                  0\n",
       "PUweekday                    0\n",
       "DOweekday                    0\n",
       "dtype: int64"
      ]
     },
     "execution_count": 137,
     "metadata": {},
     "output_type": "execute_result"
    }
   ],
   "source": [
    "data2.isnull().sum()"
   ]
  },
  {
   "cell_type": "code",
   "execution_count": 138,
   "metadata": {},
   "outputs": [],
   "source": [
    "### Case 1\n",
    "data2.passenger_count.fillna(data2.passenger_count.max(), inplace= True)"
   ]
  },
  {
   "cell_type": "code",
   "execution_count": 139,
   "metadata": {},
   "outputs": [
    {
     "data": {
      "text/plain": [
       "VendorID                 15609\n",
       "tpep_pickup_datetime         0\n",
       "tpep_dropoff_datetime        0\n",
       "passenger_count              0\n",
       "PULocationID                 0\n",
       "DOLocationID                 0\n",
       "fare_amount                  0\n",
       "PUweekday                    0\n",
       "DOweekday                    0\n",
       "dtype: int64"
      ]
     },
     "execution_count": 139,
     "metadata": {},
     "output_type": "execute_result"
    }
   ],
   "source": [
    "data2.isnull().sum()"
   ]
  },
  {
   "cell_type": "code",
   "execution_count": 140,
   "metadata": {},
   "outputs": [
    {
     "data": {
      "text/plain": [
       "1.0"
      ]
     },
     "execution_count": 140,
     "metadata": {},
     "output_type": "execute_result"
    }
   ],
   "source": [
    "### without missing values\n",
    "data2.passenger_count.median()"
   ]
  },
  {
   "cell_type": "code",
   "execution_count": 141,
   "metadata": {},
   "outputs": [],
   "source": [
    "### Case 2\n",
    "data3.passenger_count.fillna(data3.passenger_count.median(), inplace = True)"
   ]
  },
  {
   "cell_type": "code",
   "execution_count": 142,
   "metadata": {},
   "outputs": [
    {
     "data": {
      "text/plain": [
       "VendorID                 15609\n",
       "tpep_pickup_datetime         0\n",
       "tpep_dropoff_datetime        0\n",
       "passenger_count              0\n",
       "PULocationID                 0\n",
       "DOLocationID                 0\n",
       "fare_amount                  0\n",
       "PUweekday                    0\n",
       "DOweekday                    0\n",
       "dtype: int64"
      ]
     },
     "execution_count": 142,
     "metadata": {},
     "output_type": "execute_result"
    }
   ],
   "source": [
    "data3.isnull().sum()"
   ]
  },
  {
   "cell_type": "code",
   "execution_count": 143,
   "metadata": {},
   "outputs": [
    {
     "data": {
      "text/plain": [
       "1.0"
      ]
     },
     "execution_count": 143,
     "metadata": {},
     "output_type": "execute_result"
    }
   ],
   "source": [
    "### without missing values\n",
    "data3.passenger_count.median()"
   ]
  },
  {
   "cell_type": "markdown",
   "metadata": {},
   "source": [
    "### Q#7 - Q#9"
   ]
  },
  {
   "cell_type": "code",
   "execution_count": 147,
   "metadata": {},
   "outputs": [],
   "source": [
    "exam_data = pd.read_csv('https://raw.githubusercontent.com/dphi-official/Datasets/master/exam_scores.csv')"
   ]
  },
  {
   "cell_type": "code",
   "execution_count": 148,
   "metadata": {},
   "outputs": [
    {
     "data": {
      "text/html": [
       "<div>\n",
       "<style scoped>\n",
       "    .dataframe tbody tr th:only-of-type {\n",
       "        vertical-align: middle;\n",
       "    }\n",
       "\n",
       "    .dataframe tbody tr th {\n",
       "        vertical-align: top;\n",
       "    }\n",
       "\n",
       "    .dataframe thead th {\n",
       "        text-align: right;\n",
       "    }\n",
       "</style>\n",
       "<table border=\"1\" class=\"dataframe\">\n",
       "  <thead>\n",
       "    <tr style=\"text-align: right;\">\n",
       "      <th></th>\n",
       "      <th>gender</th>\n",
       "      <th>race/ethnicity</th>\n",
       "      <th>parental level of education</th>\n",
       "      <th>lunch</th>\n",
       "      <th>test preparation course</th>\n",
       "      <th>math score</th>\n",
       "      <th>reading score</th>\n",
       "      <th>writing score</th>\n",
       "    </tr>\n",
       "  </thead>\n",
       "  <tbody>\n",
       "    <tr>\n",
       "      <td>0</td>\n",
       "      <td>male</td>\n",
       "      <td>group B</td>\n",
       "      <td>bachelor's degree</td>\n",
       "      <td>standard</td>\n",
       "      <td>none</td>\n",
       "      <td>74</td>\n",
       "      <td>68</td>\n",
       "      <td>67</td>\n",
       "    </tr>\n",
       "    <tr>\n",
       "      <td>1</td>\n",
       "      <td>female</td>\n",
       "      <td>group C</td>\n",
       "      <td>some college</td>\n",
       "      <td>standard</td>\n",
       "      <td>completed</td>\n",
       "      <td>58</td>\n",
       "      <td>68</td>\n",
       "      <td>66</td>\n",
       "    </tr>\n",
       "    <tr>\n",
       "      <td>2</td>\n",
       "      <td>male</td>\n",
       "      <td>group C</td>\n",
       "      <td>some college</td>\n",
       "      <td>free/reduced</td>\n",
       "      <td>none</td>\n",
       "      <td>66</td>\n",
       "      <td>65</td>\n",
       "      <td>65</td>\n",
       "    </tr>\n",
       "    <tr>\n",
       "      <td>3</td>\n",
       "      <td>female</td>\n",
       "      <td>group D</td>\n",
       "      <td>bachelor's degree</td>\n",
       "      <td>free/reduced</td>\n",
       "      <td>none</td>\n",
       "      <td>74</td>\n",
       "      <td>75</td>\n",
       "      <td>73</td>\n",
       "    </tr>\n",
       "    <tr>\n",
       "      <td>4</td>\n",
       "      <td>male</td>\n",
       "      <td>group D</td>\n",
       "      <td>some college</td>\n",
       "      <td>standard</td>\n",
       "      <td>none</td>\n",
       "      <td>78</td>\n",
       "      <td>77</td>\n",
       "      <td>71</td>\n",
       "    </tr>\n",
       "  </tbody>\n",
       "</table>\n",
       "</div>"
      ],
      "text/plain": [
       "   gender race/ethnicity parental level of education         lunch  \\\n",
       "0    male        group B           bachelor's degree      standard   \n",
       "1  female        group C                some college      standard   \n",
       "2    male        group C                some college  free/reduced   \n",
       "3  female        group D           bachelor's degree  free/reduced   \n",
       "4    male        group D                some college      standard   \n",
       "\n",
       "  test preparation course  math score  reading score  writing score  \n",
       "0                    none          74             68             67  \n",
       "1               completed          58             68             66  \n",
       "2                    none          66             65             65  \n",
       "3                    none          74             75             73  \n",
       "4                    none          78             77             71  "
      ]
     },
     "execution_count": 148,
     "metadata": {},
     "output_type": "execute_result"
    }
   ],
   "source": [
    "exam_data.head()"
   ]
  },
  {
   "cell_type": "code",
   "execution_count": 149,
   "metadata": {},
   "outputs": [
    {
     "data": {
      "text/plain": [
       "(1000, 8)"
      ]
     },
     "execution_count": 149,
     "metadata": {},
     "output_type": "execute_result"
    }
   ],
   "source": [
    "exam_data.shape"
   ]
  },
  {
   "cell_type": "code",
   "execution_count": 150,
   "metadata": {},
   "outputs": [
    {
     "data": {
      "text/plain": [
       "group C    294\n",
       "group D    280\n",
       "group B    211\n",
       "group E    152\n",
       "group A     63\n",
       "Name: race/ethnicity, dtype: int64"
      ]
     },
     "execution_count": 150,
     "metadata": {},
     "output_type": "execute_result"
    }
   ],
   "source": [
    "exam_data['race/ethnicity'].value_counts()"
   ]
  },
  {
   "cell_type": "code",
   "execution_count": 151,
   "metadata": {},
   "outputs": [
    {
     "data": {
      "text/plain": [
       "some college          226\n",
       "associate's degree    197\n",
       "high school           190\n",
       "some high school      181\n",
       "bachelor's degree     130\n",
       "master's degree        76\n",
       "Name: parental level of education, dtype: int64"
      ]
     },
     "execution_count": 151,
     "metadata": {},
     "output_type": "execute_result"
    }
   ],
   "source": [
    "exam_data['parental level of education'].value_counts()"
   ]
  },
  {
   "cell_type": "code",
   "execution_count": 152,
   "metadata": {},
   "outputs": [
    {
     "data": {
      "text/plain": [
       "none         654\n",
       "completed    346\n",
       "Name: test preparation course, dtype: int64"
      ]
     },
     "execution_count": 152,
     "metadata": {},
     "output_type": "execute_result"
    }
   ],
   "source": [
    "exam_data['test preparation course'].value_counts()"
   ]
  },
  {
   "cell_type": "code",
   "execution_count": 156,
   "metadata": {},
   "outputs": [
    {
     "data": {
      "text/plain": [
       "none         0.654\n",
       "completed    0.346\n",
       "Name: test preparation course, dtype: float64"
      ]
     },
     "execution_count": 156,
     "metadata": {},
     "output_type": "execute_result"
    }
   ],
   "source": [
    "exam_data['test preparation course'].value_counts()/exam_data.shape[0]"
   ]
  },
  {
   "cell_type": "code",
   "execution_count": 160,
   "metadata": {},
   "outputs": [
    {
     "data": {
      "text/html": [
       "<div>\n",
       "<style scoped>\n",
       "    .dataframe tbody tr th:only-of-type {\n",
       "        vertical-align: middle;\n",
       "    }\n",
       "\n",
       "    .dataframe tbody tr th {\n",
       "        vertical-align: top;\n",
       "    }\n",
       "\n",
       "    .dataframe thead th {\n",
       "        text-align: right;\n",
       "    }\n",
       "</style>\n",
       "<table border=\"1\" class=\"dataframe\">\n",
       "  <thead>\n",
       "    <tr style=\"text-align: right;\">\n",
       "      <th></th>\n",
       "      <th>math score</th>\n",
       "      <th>reading score</th>\n",
       "      <th>writing score</th>\n",
       "    </tr>\n",
       "  </thead>\n",
       "  <tbody>\n",
       "    <tr>\n",
       "      <td>math score</td>\n",
       "      <td>1.000000</td>\n",
       "      <td>0.818193</td>\n",
       "      <td>0.817299</td>\n",
       "    </tr>\n",
       "    <tr>\n",
       "      <td>reading score</td>\n",
       "      <td>0.818193</td>\n",
       "      <td>1.000000</td>\n",
       "      <td>0.955211</td>\n",
       "    </tr>\n",
       "    <tr>\n",
       "      <td>writing score</td>\n",
       "      <td>0.817299</td>\n",
       "      <td>0.955211</td>\n",
       "      <td>1.000000</td>\n",
       "    </tr>\n",
       "  </tbody>\n",
       "</table>\n",
       "</div>"
      ],
      "text/plain": [
       "               math score  reading score  writing score\n",
       "math score       1.000000       0.818193       0.817299\n",
       "reading score    0.818193       1.000000       0.955211\n",
       "writing score    0.817299       0.955211       1.000000"
      ]
     },
     "execution_count": 160,
     "metadata": {},
     "output_type": "execute_result"
    }
   ],
   "source": [
    "exam_data.corr(method ='pearson') "
   ]
  },
  {
   "cell_type": "code",
   "execution_count": 158,
   "metadata": {},
   "outputs": [],
   "source": [
    "import missingno as msno"
   ]
  },
  {
   "cell_type": "code",
   "execution_count": 159,
   "metadata": {},
   "outputs": [
    {
     "name": "stderr",
     "output_type": "stream",
     "text": [
      "C:\\Users\\DC\\Anaconda3\\lib\\site-packages\\seaborn\\matrix.py:287: UserWarning: Attempting to set identical bottom == top == 0 results in singular transformations; automatically expanding.\n",
      "  ax.set(xlim=(0, self.data.shape[1]), ylim=(0, self.data.shape[0]))\n",
      "C:\\Users\\DC\\Anaconda3\\lib\\site-packages\\seaborn\\matrix.py:287: UserWarning: Attempting to set identical left == right == 0 results in singular transformations; automatically expanding.\n",
      "  ax.set(xlim=(0, self.data.shape[1]), ylim=(0, self.data.shape[0]))\n"
     ]
    },
    {
     "data": {
      "text/plain": [
       "<matplotlib.axes._subplots.AxesSubplot at 0x29ed83362c8>"
      ]
     },
     "execution_count": 159,
     "metadata": {},
     "output_type": "execute_result"
    },
    {
     "data": {
      "image/png": "[encoded data removed]",
      "text/plain": [
       "<Figure size 1440x864 with 2 Axes>"
      ]
     },
     "metadata": {
      "needs_background": "light"
     },
     "output_type": "display_data"
    }
   ],
   "source": [
    "msno.heatmap(exam_data)"
   ]
  },
  {
   "cell_type": "code",
   "execution_count": 161,
   "metadata": {},
   "outputs": [
    {
     "data": {
      "text/plain": [
       "female    502\n",
       "male      498\n",
       "Name: gender, dtype: int64"
      ]
     },
     "execution_count": 161,
     "metadata": {},
     "output_type": "execute_result"
    }
   ],
   "source": [
    "exam_data['gender'].value_counts()"
   ]
  },
  {
   "cell_type": "code",
   "execution_count": 163,
   "metadata": {},
   "outputs": [
    {
     "data": {
      "text/html": [
       "<div>\n",
       "<style scoped>\n",
       "    .dataframe tbody tr th:only-of-type {\n",
       "        vertical-align: middle;\n",
       "    }\n",
       "\n",
       "    .dataframe tbody tr th {\n",
       "        vertical-align: top;\n",
       "    }\n",
       "\n",
       "    .dataframe thead th {\n",
       "        text-align: right;\n",
       "    }\n",
       "</style>\n",
       "<table border=\"1\" class=\"dataframe\">\n",
       "  <thead>\n",
       "    <tr style=\"text-align: right;\">\n",
       "      <th></th>\n",
       "      <th>gender</th>\n",
       "      <th>race/ethnicity</th>\n",
       "      <th>parental level of education</th>\n",
       "      <th>lunch</th>\n",
       "      <th>test preparation course</th>\n",
       "      <th>math score</th>\n",
       "      <th>reading score</th>\n",
       "      <th>writing score</th>\n",
       "    </tr>\n",
       "  </thead>\n",
       "  <tbody>\n",
       "    <tr>\n",
       "      <td>19</td>\n",
       "      <td>female</td>\n",
       "      <td>group A</td>\n",
       "      <td>some high school</td>\n",
       "      <td>free/reduced</td>\n",
       "      <td>none</td>\n",
       "      <td>58</td>\n",
       "      <td>80</td>\n",
       "      <td>68</td>\n",
       "    </tr>\n",
       "    <tr>\n",
       "      <td>80</td>\n",
       "      <td>male</td>\n",
       "      <td>group A</td>\n",
       "      <td>some high school</td>\n",
       "      <td>free/reduced</td>\n",
       "      <td>none</td>\n",
       "      <td>72</td>\n",
       "      <td>74</td>\n",
       "      <td>69</td>\n",
       "    </tr>\n",
       "    <tr>\n",
       "      <td>98</td>\n",
       "      <td>male</td>\n",
       "      <td>group A</td>\n",
       "      <td>some high school</td>\n",
       "      <td>standard</td>\n",
       "      <td>none</td>\n",
       "      <td>45</td>\n",
       "      <td>48</td>\n",
       "      <td>35</td>\n",
       "    </tr>\n",
       "    <tr>\n",
       "      <td>109</td>\n",
       "      <td>male</td>\n",
       "      <td>group A</td>\n",
       "      <td>bachelor's degree</td>\n",
       "      <td>free/reduced</td>\n",
       "      <td>none</td>\n",
       "      <td>47</td>\n",
       "      <td>55</td>\n",
       "      <td>53</td>\n",
       "    </tr>\n",
       "    <tr>\n",
       "      <td>128</td>\n",
       "      <td>male</td>\n",
       "      <td>group A</td>\n",
       "      <td>associate's degree</td>\n",
       "      <td>standard</td>\n",
       "      <td>completed</td>\n",
       "      <td>100</td>\n",
       "      <td>97</td>\n",
       "      <td>94</td>\n",
       "    </tr>\n",
       "    <tr>\n",
       "      <td>...</td>\n",
       "      <td>...</td>\n",
       "      <td>...</td>\n",
       "      <td>...</td>\n",
       "      <td>...</td>\n",
       "      <td>...</td>\n",
       "      <td>...</td>\n",
       "      <td>...</td>\n",
       "      <td>...</td>\n",
       "    </tr>\n",
       "    <tr>\n",
       "      <td>908</td>\n",
       "      <td>female</td>\n",
       "      <td>group A</td>\n",
       "      <td>master's degree</td>\n",
       "      <td>standard</td>\n",
       "      <td>none</td>\n",
       "      <td>78</td>\n",
       "      <td>99</td>\n",
       "      <td>93</td>\n",
       "    </tr>\n",
       "    <tr>\n",
       "      <td>946</td>\n",
       "      <td>female</td>\n",
       "      <td>group A</td>\n",
       "      <td>master's degree</td>\n",
       "      <td>free/reduced</td>\n",
       "      <td>completed</td>\n",
       "      <td>44</td>\n",
       "      <td>53</td>\n",
       "      <td>55</td>\n",
       "    </tr>\n",
       "    <tr>\n",
       "      <td>989</td>\n",
       "      <td>male</td>\n",
       "      <td>group A</td>\n",
       "      <td>some college</td>\n",
       "      <td>standard</td>\n",
       "      <td>none</td>\n",
       "      <td>74</td>\n",
       "      <td>65</td>\n",
       "      <td>67</td>\n",
       "    </tr>\n",
       "    <tr>\n",
       "      <td>992</td>\n",
       "      <td>male</td>\n",
       "      <td>group A</td>\n",
       "      <td>bachelor's degree</td>\n",
       "      <td>standard</td>\n",
       "      <td>none</td>\n",
       "      <td>78</td>\n",
       "      <td>73</td>\n",
       "      <td>71</td>\n",
       "    </tr>\n",
       "    <tr>\n",
       "      <td>993</td>\n",
       "      <td>male</td>\n",
       "      <td>group A</td>\n",
       "      <td>some college</td>\n",
       "      <td>standard</td>\n",
       "      <td>none</td>\n",
       "      <td>56</td>\n",
       "      <td>54</td>\n",
       "      <td>45</td>\n",
       "    </tr>\n",
       "  </tbody>\n",
       "</table>\n",
       "<p>63 rows × 8 columns</p>\n",
       "</div>"
      ],
      "text/plain": [
       "     gender race/ethnicity parental level of education         lunch  \\\n",
       "19   female        group A            some high school  free/reduced   \n",
       "80     male        group A            some high school  free/reduced   \n",
       "98     male        group A            some high school      standard   \n",
       "109    male        group A           bachelor's degree  free/reduced   \n",
       "128    male        group A          associate's degree      standard   \n",
       "..      ...            ...                         ...           ...   \n",
       "908  female        group A             master's degree      standard   \n",
       "946  female        group A             master's degree  free/reduced   \n",
       "989    male        group A                some college      standard   \n",
       "992    male        group A           bachelor's degree      standard   \n",
       "993    male        group A                some college      standard   \n",
       "\n",
       "    test preparation course  math score  reading score  writing score  \n",
       "19                     none          58             80             68  \n",
       "80                     none          72             74             69  \n",
       "98                     none          45             48             35  \n",
       "109                    none          47             55             53  \n",
       "128               completed         100             97             94  \n",
       "..                      ...         ...            ...            ...  \n",
       "908                    none          78             99             93  \n",
       "946               completed          44             53             55  \n",
       "989                    none          74             65             67  \n",
       "992                    none          78             73             71  \n",
       "993                    none          56             54             45  \n",
       "\n",
       "[63 rows x 8 columns]"
      ]
     },
     "execution_count": 163,
     "metadata": {},
     "output_type": "execute_result"
    }
   ],
   "source": [
    "group_a = exam_data[exam_data['race/ethnicity'] == 'group A']\n",
    "group_a"
   ]
  },
  {
   "cell_type": "code",
   "execution_count": 164,
   "metadata": {},
   "outputs": [
    {
     "data": {
      "text/html": [
       "<div>\n",
       "<style scoped>\n",
       "    .dataframe tbody tr th:only-of-type {\n",
       "        vertical-align: middle;\n",
       "    }\n",
       "\n",
       "    .dataframe tbody tr th {\n",
       "        vertical-align: top;\n",
       "    }\n",
       "\n",
       "    .dataframe thead th {\n",
       "        text-align: right;\n",
       "    }\n",
       "</style>\n",
       "<table border=\"1\" class=\"dataframe\">\n",
       "  <thead>\n",
       "    <tr style=\"text-align: right;\">\n",
       "      <th></th>\n",
       "      <th>gender</th>\n",
       "      <th>race/ethnicity</th>\n",
       "      <th>parental level of education</th>\n",
       "      <th>lunch</th>\n",
       "      <th>test preparation course</th>\n",
       "      <th>math score</th>\n",
       "      <th>reading score</th>\n",
       "      <th>writing score</th>\n",
       "    </tr>\n",
       "  </thead>\n",
       "  <tbody>\n",
       "    <tr>\n",
       "      <td>1</td>\n",
       "      <td>female</td>\n",
       "      <td>group C</td>\n",
       "      <td>some college</td>\n",
       "      <td>standard</td>\n",
       "      <td>completed</td>\n",
       "      <td>58</td>\n",
       "      <td>68</td>\n",
       "      <td>66</td>\n",
       "    </tr>\n",
       "    <tr>\n",
       "      <td>5</td>\n",
       "      <td>female</td>\n",
       "      <td>group D</td>\n",
       "      <td>associate's degree</td>\n",
       "      <td>standard</td>\n",
       "      <td>completed</td>\n",
       "      <td>75</td>\n",
       "      <td>82</td>\n",
       "      <td>85</td>\n",
       "    </tr>\n",
       "    <tr>\n",
       "      <td>8</td>\n",
       "      <td>male</td>\n",
       "      <td>group C</td>\n",
       "      <td>some high school</td>\n",
       "      <td>standard</td>\n",
       "      <td>completed</td>\n",
       "      <td>65</td>\n",
       "      <td>58</td>\n",
       "      <td>55</td>\n",
       "    </tr>\n",
       "    <tr>\n",
       "      <td>13</td>\n",
       "      <td>female</td>\n",
       "      <td>group D</td>\n",
       "      <td>high school</td>\n",
       "      <td>free/reduced</td>\n",
       "      <td>completed</td>\n",
       "      <td>40</td>\n",
       "      <td>60</td>\n",
       "      <td>51</td>\n",
       "    </tr>\n",
       "    <tr>\n",
       "      <td>15</td>\n",
       "      <td>male</td>\n",
       "      <td>group D</td>\n",
       "      <td>some college</td>\n",
       "      <td>free/reduced</td>\n",
       "      <td>completed</td>\n",
       "      <td>75</td>\n",
       "      <td>64</td>\n",
       "      <td>70</td>\n",
       "    </tr>\n",
       "    <tr>\n",
       "      <td>...</td>\n",
       "      <td>...</td>\n",
       "      <td>...</td>\n",
       "      <td>...</td>\n",
       "      <td>...</td>\n",
       "      <td>...</td>\n",
       "      <td>...</td>\n",
       "      <td>...</td>\n",
       "      <td>...</td>\n",
       "    </tr>\n",
       "    <tr>\n",
       "      <td>980</td>\n",
       "      <td>male</td>\n",
       "      <td>group E</td>\n",
       "      <td>associate's degree</td>\n",
       "      <td>standard</td>\n",
       "      <td>completed</td>\n",
       "      <td>95</td>\n",
       "      <td>84</td>\n",
       "      <td>92</td>\n",
       "    </tr>\n",
       "    <tr>\n",
       "      <td>982</td>\n",
       "      <td>male</td>\n",
       "      <td>group D</td>\n",
       "      <td>associate's degree</td>\n",
       "      <td>free/reduced</td>\n",
       "      <td>completed</td>\n",
       "      <td>84</td>\n",
       "      <td>82</td>\n",
       "      <td>84</td>\n",
       "    </tr>\n",
       "    <tr>\n",
       "      <td>986</td>\n",
       "      <td>female</td>\n",
       "      <td>group B</td>\n",
       "      <td>high school</td>\n",
       "      <td>free/reduced</td>\n",
       "      <td>completed</td>\n",
       "      <td>60</td>\n",
       "      <td>81</td>\n",
       "      <td>79</td>\n",
       "    </tr>\n",
       "    <tr>\n",
       "      <td>991</td>\n",
       "      <td>male</td>\n",
       "      <td>group B</td>\n",
       "      <td>master's degree</td>\n",
       "      <td>standard</td>\n",
       "      <td>completed</td>\n",
       "      <td>78</td>\n",
       "      <td>76</td>\n",
       "      <td>80</td>\n",
       "    </tr>\n",
       "    <tr>\n",
       "      <td>994</td>\n",
       "      <td>male</td>\n",
       "      <td>group C</td>\n",
       "      <td>master's degree</td>\n",
       "      <td>standard</td>\n",
       "      <td>completed</td>\n",
       "      <td>85</td>\n",
       "      <td>93</td>\n",
       "      <td>90</td>\n",
       "    </tr>\n",
       "  </tbody>\n",
       "</table>\n",
       "<p>346 rows × 8 columns</p>\n",
       "</div>"
      ],
      "text/plain": [
       "     gender race/ethnicity parental level of education         lunch  \\\n",
       "1    female        group C                some college      standard   \n",
       "5    female        group D          associate's degree      standard   \n",
       "8      male        group C            some high school      standard   \n",
       "13   female        group D                 high school  free/reduced   \n",
       "15     male        group D                some college  free/reduced   \n",
       "..      ...            ...                         ...           ...   \n",
       "980    male        group E          associate's degree      standard   \n",
       "982    male        group D          associate's degree  free/reduced   \n",
       "986  female        group B                 high school  free/reduced   \n",
       "991    male        group B             master's degree      standard   \n",
       "994    male        group C             master's degree      standard   \n",
       "\n",
       "    test preparation course  math score  reading score  writing score  \n",
       "1                 completed          58             68             66  \n",
       "5                 completed          75             82             85  \n",
       "8                 completed          65             58             55  \n",
       "13                completed          40             60             51  \n",
       "15                completed          75             64             70  \n",
       "..                      ...         ...            ...            ...  \n",
       "980               completed          95             84             92  \n",
       "982               completed          84             82             84  \n",
       "986               completed          60             81             79  \n",
       "991               completed          78             76             80  \n",
       "994               completed          85             93             90  \n",
       "\n",
       "[346 rows x 8 columns]"
      ]
     },
     "execution_count": 164,
     "metadata": {},
     "output_type": "execute_result"
    }
   ],
   "source": [
    "course_completed = exam_data[exam_data['test preparation course'] == 'completed']\n",
    "course_completed"
   ]
  },
  {
   "cell_type": "code",
   "execution_count": 165,
   "metadata": {},
   "outputs": [
    {
     "data": {
      "text/plain": [
       "none         42\n",
       "completed    21\n",
       "Name: test preparation course, dtype: int64"
      ]
     },
     "execution_count": 165,
     "metadata": {},
     "output_type": "execute_result"
    }
   ],
   "source": [
    "group_a['test preparation course'].value_counts()"
   ]
  },
  {
   "cell_type": "code",
   "execution_count": 170,
   "metadata": {},
   "outputs": [
    {
     "data": {
      "text/plain": [
       "<function matplotlib.pyplot.show(*args, **kw)>"
      ]
     },
     "execution_count": 170,
     "metadata": {},
     "output_type": "execute_result"
    },
    {
     "data": {
      "image/png": "[encoded data removed]",
      "text/plain": [
       "<Figure size 432x288 with 1 Axes>"
      ]
     },
     "metadata": {
      "needs_background": "light"
     },
     "output_type": "display_data"
    }
   ],
   "source": [
    "plt.hist(group_a['math score'])\n",
    "plt.show"
   ]
  },
  {
   "cell_type": "code",
   "execution_count": 171,
   "metadata": {},
   "outputs": [
    {
     "data": {
      "text/plain": [
       "(array([ 4.,  6., 25., 30., 59., 55., 51., 61., 37., 18.]),\n",
       " array([ 28. ,  35.2,  42.4,  49.6,  56.8,  64. ,  71.2,  78.4,  85.6,\n",
       "         92.8, 100. ]),\n",
       " <a list of 10 Patch objects>)"
      ]
     },
     "execution_count": 171,
     "metadata": {},
     "output_type": "execute_result"
    },
    {
     "data": {
      "image/png": "[encoded data removed]",
      "text/plain": [
       "<Figure size 432x288 with 1 Axes>"
      ]
     },
     "metadata": {
      "needs_background": "light"
     },
     "output_type": "display_data"
    }
   ],
   "source": [
    "plt.hist(course_completed['math score'])"
   ]
  },
  {
   "cell_type": "code",
   "execution_count": 172,
   "metadata": {},
   "outputs": [
    {
     "data": {
      "text/plain": [
       "male      184\n",
       "female    162\n",
       "Name: gender, dtype: int64"
      ]
     },
     "execution_count": 172,
     "metadata": {},
     "output_type": "execute_result"
    }
   ],
   "source": [
    "course_completed['gender'].value_counts()"
   ]
  },
  {
   "cell_type": "markdown",
   "metadata": {},
   "source": [
    "### Question#9"
   ]
  },
  {
   "cell_type": "code",
   "execution_count": 174,
   "metadata": {},
   "outputs": [
    {
     "data": {
      "text/html": [
       "<div>\n",
       "<style scoped>\n",
       "    .dataframe tbody tr th:only-of-type {\n",
       "        vertical-align: middle;\n",
       "    }\n",
       "\n",
       "    .dataframe tbody tr th {\n",
       "        vertical-align: top;\n",
       "    }\n",
       "\n",
       "    .dataframe thead th {\n",
       "        text-align: right;\n",
       "    }\n",
       "</style>\n",
       "<table border=\"1\" class=\"dataframe\">\n",
       "  <thead>\n",
       "    <tr style=\"text-align: right;\">\n",
       "      <th></th>\n",
       "      <th>gender</th>\n",
       "      <th>race/ethnicity</th>\n",
       "      <th>parental level of education</th>\n",
       "      <th>lunch</th>\n",
       "      <th>test preparation course</th>\n",
       "      <th>math score</th>\n",
       "      <th>reading score</th>\n",
       "      <th>writing score</th>\n",
       "    </tr>\n",
       "  </thead>\n",
       "  <tbody>\n",
       "    <tr>\n",
       "      <td>19</td>\n",
       "      <td>female</td>\n",
       "      <td>group A</td>\n",
       "      <td>some high school</td>\n",
       "      <td>free/reduced</td>\n",
       "      <td>none</td>\n",
       "      <td>58</td>\n",
       "      <td>80</td>\n",
       "      <td>68</td>\n",
       "    </tr>\n",
       "    <tr>\n",
       "      <td>80</td>\n",
       "      <td>male</td>\n",
       "      <td>group A</td>\n",
       "      <td>some high school</td>\n",
       "      <td>free/reduced</td>\n",
       "      <td>none</td>\n",
       "      <td>72</td>\n",
       "      <td>74</td>\n",
       "      <td>69</td>\n",
       "    </tr>\n",
       "    <tr>\n",
       "      <td>98</td>\n",
       "      <td>male</td>\n",
       "      <td>group A</td>\n",
       "      <td>some high school</td>\n",
       "      <td>standard</td>\n",
       "      <td>none</td>\n",
       "      <td>45</td>\n",
       "      <td>48</td>\n",
       "      <td>35</td>\n",
       "    </tr>\n",
       "    <tr>\n",
       "      <td>109</td>\n",
       "      <td>male</td>\n",
       "      <td>group A</td>\n",
       "      <td>bachelor's degree</td>\n",
       "      <td>free/reduced</td>\n",
       "      <td>none</td>\n",
       "      <td>47</td>\n",
       "      <td>55</td>\n",
       "      <td>53</td>\n",
       "    </tr>\n",
       "    <tr>\n",
       "      <td>128</td>\n",
       "      <td>male</td>\n",
       "      <td>group A</td>\n",
       "      <td>associate's degree</td>\n",
       "      <td>standard</td>\n",
       "      <td>completed</td>\n",
       "      <td>100</td>\n",
       "      <td>97</td>\n",
       "      <td>94</td>\n",
       "    </tr>\n",
       "    <tr>\n",
       "      <td>...</td>\n",
       "      <td>...</td>\n",
       "      <td>...</td>\n",
       "      <td>...</td>\n",
       "      <td>...</td>\n",
       "      <td>...</td>\n",
       "      <td>...</td>\n",
       "      <td>...</td>\n",
       "      <td>...</td>\n",
       "    </tr>\n",
       "    <tr>\n",
       "      <td>980</td>\n",
       "      <td>male</td>\n",
       "      <td>group E</td>\n",
       "      <td>associate's degree</td>\n",
       "      <td>standard</td>\n",
       "      <td>completed</td>\n",
       "      <td>95</td>\n",
       "      <td>84</td>\n",
       "      <td>92</td>\n",
       "    </tr>\n",
       "    <tr>\n",
       "      <td>982</td>\n",
       "      <td>male</td>\n",
       "      <td>group D</td>\n",
       "      <td>associate's degree</td>\n",
       "      <td>free/reduced</td>\n",
       "      <td>completed</td>\n",
       "      <td>84</td>\n",
       "      <td>82</td>\n",
       "      <td>84</td>\n",
       "    </tr>\n",
       "    <tr>\n",
       "      <td>986</td>\n",
       "      <td>female</td>\n",
       "      <td>group B</td>\n",
       "      <td>high school</td>\n",
       "      <td>free/reduced</td>\n",
       "      <td>completed</td>\n",
       "      <td>60</td>\n",
       "      <td>81</td>\n",
       "      <td>79</td>\n",
       "    </tr>\n",
       "    <tr>\n",
       "      <td>991</td>\n",
       "      <td>male</td>\n",
       "      <td>group B</td>\n",
       "      <td>master's degree</td>\n",
       "      <td>standard</td>\n",
       "      <td>completed</td>\n",
       "      <td>78</td>\n",
       "      <td>76</td>\n",
       "      <td>80</td>\n",
       "    </tr>\n",
       "    <tr>\n",
       "      <td>994</td>\n",
       "      <td>male</td>\n",
       "      <td>group C</td>\n",
       "      <td>master's degree</td>\n",
       "      <td>standard</td>\n",
       "      <td>completed</td>\n",
       "      <td>85</td>\n",
       "      <td>93</td>\n",
       "      <td>90</td>\n",
       "    </tr>\n",
       "  </tbody>\n",
       "</table>\n",
       "<p>409 rows × 8 columns</p>\n",
       "</div>"
      ],
      "text/plain": [
       "     gender race/ethnicity parental level of education         lunch  \\\n",
       "19   female        group A            some high school  free/reduced   \n",
       "80     male        group A            some high school  free/reduced   \n",
       "98     male        group A            some high school      standard   \n",
       "109    male        group A           bachelor's degree  free/reduced   \n",
       "128    male        group A          associate's degree      standard   \n",
       "..      ...            ...                         ...           ...   \n",
       "980    male        group E          associate's degree      standard   \n",
       "982    male        group D          associate's degree  free/reduced   \n",
       "986  female        group B                 high school  free/reduced   \n",
       "991    male        group B             master's degree      standard   \n",
       "994    male        group C             master's degree      standard   \n",
       "\n",
       "    test preparation course  math score  reading score  writing score  \n",
       "19                     none          58             80             68  \n",
       "80                     none          72             74             69  \n",
       "98                     none          45             48             35  \n",
       "109                    none          47             55             53  \n",
       "128               completed         100             97             94  \n",
       "..                      ...         ...            ...            ...  \n",
       "980               completed          95             84             92  \n",
       "982               completed          84             82             84  \n",
       "986               completed          60             81             79  \n",
       "991               completed          78             76             80  \n",
       "994               completed          85             93             90  \n",
       "\n",
       "[409 rows x 8 columns]"
      ]
     },
     "execution_count": 174,
     "metadata": {},
     "output_type": "execute_result"
    }
   ],
   "source": [
    "concat_data = pd.concat([group_a, course_completed], axis = 0)\n",
    "concat_data"
   ]
  },
  {
   "cell_type": "code",
   "execution_count": 179,
   "metadata": {},
   "outputs": [
    {
     "data": {
      "text/plain": [
       "21"
      ]
     },
     "execution_count": 179,
     "metadata": {},
     "output_type": "execute_result"
    }
   ],
   "source": [
    "#### duplicate\n",
    "concat_data.duplicated().sum()"
   ]
  },
  {
   "cell_type": "code",
   "execution_count": null,
   "metadata": {},
   "outputs": [],
   "source": []
  }
 ],
 "metadata": {
  "kernelspec": {
   "display_name": "Python 3",
   "language": "python",
   "name": "python3"
  },
  "language_info": {
   "codemirror_mode": {
    "name": "ipython",
    "version": 3
   },
   "file_extension": ".py",
   "mimetype": "text/x-python",
   "name": "python",
   "nbconvert_exporter": "python",
   "pygments_lexer": "ipython3",
   "version": "3.7.4"
  }
 },
 "nbformat": 4,
 "nbformat_minor": 2
}
